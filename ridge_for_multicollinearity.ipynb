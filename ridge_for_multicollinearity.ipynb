{
 "metadata": {
  "name": "",
  "signature": "sha256:af5240cff5b07e7ce0ee35f03efa28e66bde8c48b9b2df39905b10d08f560a24"
 },
 "nbformat": 3,
 "nbformat_minor": 0,
 "worksheets": [
  {
   "cells": [
    {
     "cell_type": "markdown",
     "metadata": {},
     "source": [
      "# Solving Multicollinearity Problem Using Ridge Regression"
     ]
    },
    {
     "cell_type": "code",
     "collapsed": false,
     "input": [
      "import numpy as np\n",
      "from sklearn.linear_model import LinearRegression, Ridge"
     ],
     "language": "python",
     "metadata": {},
     "outputs": [],
     "prompt_number": 1
    },
    {
     "cell_type": "code",
     "collapsed": false,
     "input": [
      "Y = np.array([10, 6, 12, 8]) # target"
     ],
     "language": "python",
     "metadata": {},
     "outputs": [],
     "prompt_number": 2
    },
    {
     "cell_type": "code",
     "collapsed": false,
     "input": [
      "X1 = np.array([[1.8, 4.1, 8.0], [4.0, 8.2, 1.9], [5.9, 2.1, 6.0], [8.1, 5.9, 0.0]]) # dataset1\n",
      "X2 = np.array([[2.0, 4.0, 8.0], [4.0, 8.1, 2.1], [6.1, 2.1, 6.1], [7.8, 6.1, 0.0]]) # dataset2"
     ],
     "language": "python",
     "metadata": {},
     "outputs": [],
     "prompt_number": 3
    },
    {
     "cell_type": "code",
     "collapsed": false,
     "input": [
      "LR_model = LinearRegression()\n",
      "ridge_model = Ridge()"
     ],
     "language": "python",
     "metadata": {},
     "outputs": [],
     "prompt_number": 4
    },
    {
     "cell_type": "code",
     "collapsed": false,
     "input": [
      "LR_model.fit(X1, Y)\n",
      "ridge_model.fit(X1, Y)\n",
      "coef1_LR = LR_model.coef_\n",
      "coef1_ridge = ridge_model.coef_\n",
      "\n",
      "print \"regression coefficiets on dataset1:\" \n",
      "print \"OLS  \", coef1_LR \n",
      "print \"Ridge\", coef1_ridge"
     ],
     "language": "python",
     "metadata": {},
     "outputs": [
      {
       "output_type": "stream",
       "stream": "stdout",
       "text": [
        "regression coefficiets on dataset1:\n",
        "OLS   [ 1.48695224  0.51206302  1.53618907]\n",
        "Ridge [ 0.29000301 -0.62869995  0.3401622 ]\n"
       ]
      }
     ],
     "prompt_number": 5
    },
    {
     "cell_type": "code",
     "collapsed": false,
     "input": [
      "LR_model.fit(X2, Y)\n",
      "ridge_model.fit(X2, Y)\n",
      "coef2_LR = LR_model.coef_\n",
      "coef2_ridge = ridge_model.coef_\n",
      "\n",
      "print \"regression coefficients on dataset2:\"\n",
      "print \"OLS  \", coef2_LR \n",
      "print \"Ridge\", coef2_ridge"
     ],
     "language": "python",
     "metadata": {},
     "outputs": [
      {
       "output_type": "stream",
       "stream": "stdout",
       "text": [
        "regression coefficients on dataset2:\n",
        "OLS   [ 0.17367844 -0.83466824  0.15681646]\n",
        "Ridge [ 0.31853674 -0.64002182  0.31685381]\n"
       ]
      }
     ],
     "prompt_number": 6
    }
   ],
   "metadata": {}
  }
 ]
}